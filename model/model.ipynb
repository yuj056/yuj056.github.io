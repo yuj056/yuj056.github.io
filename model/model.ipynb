{
 "cells": [
  {
   "cell_type": "code",
   "execution_count": 14,
   "metadata": {
    "collapsed": true
   },
   "outputs": [],
   "source": [
    "# from __future__ import print_function, division\n",
    "from cantera import ctml_writer\n",
    "import numpy as np\n",
    "from scikits.odes import dae\n",
    "import pandas as pd\n",
    "import time\n",
    "import cantera as ct\n",
    "import os\n",
    "import matplotlib.pyplot as plt\n",
    "%matplotlib inline\n",
    "import matplotlib.cm as cm\n",
    "import prettyplotlib as ppl\n",
    "from prettyplotlib import brewer2mpl\n",
    "plt.rcParams['axes.linewidth'] = 1\n",
    "plt.rcParams['font.family'] = 'Times New Roman'\n",
    "colors = brewer2mpl.get_map('Set2','qualitative',8).mpl_colors"
   ]
  },
  {
   "cell_type": "markdown",
   "metadata": {},
   "source": [
    "To implement the 1D plug flow reactor model with surface chemistry, this code is tested for the simplest case -- isothermal tube with laminar flow. The governing equations and constraints are listed as follows\n",
    "\\begin{align}\n",
    "    u\\frac{d\\rho}{dz} + \\rho\\frac{du}{dz} - \\frac{p'}{A_c}\\sum^{K_g}\\dot{s_k}W_k &= 0\\\\\n",
    "    \\rho u A_c\\frac{dY_k}{dz} + Y_k p'\\sum^{K_g}\\dot{s_k}W_k - \\dot{\\omega_k}W_kA_c - \\dot{s_k}W_k p' &= 0\\\\\n",
    "    2\\rho u \\frac{du}{dz} + u^2\\frac{d\\rho}{dz} + \\frac{dP}{dz} + \\frac{8\\rho u \\nu \\pi}{A_c} &= 0 \\\\\n",
    "    P\\bar{W} &= \\rho RT\\\\\n",
    "    \\frac{dZ_k}{dz} &= \\frac{\\dot{s_k}\\sigma_k}{\\Gamma u}                                                 \n",
    "\\end{align}\n",
    "First step is to determine the initial value of u, $\\rho$, $Y_k$, P, $Z_k$ and their first derivative at the entrance of the tube:                                        "
   ]
  },
  {
   "cell_type": "markdown",
   "metadata": {},
   "source": [
    "## 1. Calculate the initial value of Z_k at the entrance of the tube"
   ]
  },
  {
   "cell_type": "code",
   "execution_count": 22,
   "metadata": {
    "collapsed": false
   },
   "outputs": [
    {
     "data": {
      "text/plain": [
       "[('HN_SIF(S)', -1.0587911840678754e-22, 0.062570074435456077),\n",
       " ('HN_NH2(S)', 1.0587911840678754e-22, 0.91554147625557647),\n",
       " ('F3SI_NH2(S)', -1.0587911840678754e-22, 0.00031421819923261961),\n",
       " ('F2SINH(S)', 0.0, 0.020851175294545006),\n",
       " ('H2NFSINH(S)', 7.9409338805090657e-23, 0.0002410186050631289),\n",
       " ('HN(FSINH)2(S)', 0.0, 0.0004820372101262578)]"
      ]
     },
     "execution_count": 22,
     "metadata": {},
     "output_type": "execute_result"
    }
   ],
   "source": [
    "mech ='/Users/yuanjie/Dropbox/Cantera_intern/code/gas_surf_phase/gas_surf_bulk/mec.cti'\n",
    "#mech = '/Users/yuanjie/Dropbox/Cantera_intern/code/gas_surf_phase/g_s_b/Sandia_mec.cti'\n",
    "#import the models for gas and bulk\n",
    "ct.suppress_thermo_warnings()\n",
    "gas, bulk_Si, bulk_N = ct.import_phases(mech,['gas','SiBulk','NBulk',])\n",
    "\n",
    "#import the model for gas-Si-N interface\n",
    "gas_Si_N_interface = ct.Interface(mech, 'SI3N4',[gas,bulk_Si,bulk_N])\n",
    "T = 1713 #K\n",
    "#p = 2 * ct.one_atm / 760.0 #Pa ~2Torr\n",
    "p = 2.632E-3*ct.one_atm \n",
    "gas.TPX = T,p,\"NH3:6, SiF4:1\"\n",
    "bulk_Si.TP = T,p\n",
    "bulk_N.TP = T,p\n",
    "gas_Si_N_interface.TP = T,p\n",
    "gas_Si_N_interface.advance_coverages(50.0)\n",
    "\n",
    "clf = []\n",
    "for i in range(gas_Si_N_interface.n_species):\n",
    "    spec_name = gas_Si_N_interface.species_names[i]\n",
    "    sdot_k = gas_Si_N_interface.net_production_rates[gas_Si_N_interface.kinetics_species_index(spec_name)]\n",
    "    Z_k = gas_Si_N_interface.coverages[i]\n",
    "    clf.append((spec_name,sdot_k,Z_k))\n",
    "\"\"\"\n",
    "Paper's results\n",
    "HN_SIF(S)   = 6.242E-02\n",
    "H2NFSINH(S) = 2.411E-04\n",
    "F3SI_NH2(S) = 3.136E-04  \n",
    "HN(FSINH)2(S)= 4.821E-04\n",
    "F2SINH(S) = 2.081E-02\n",
    "HN_NH2(S) = 9.157E-01\n",
    "\"\"\"\n",
    "clf"
   ]
  },
  {
   "cell_type": "code",
   "execution_count": 25,
   "metadata": {
    "collapsed": false
   },
   "outputs": [],
   "source": [
    "sdot_gas = []\n",
    "for i in range(gas.n_species):\n",
    "    spec_name = gas.species_names[i]\n",
    "    sdot_k_gas = gas_Si_N_interface.net_production_rates[gas_Si_N_interface.kinetics_species_index(spec_name)]\n",
    "    sdot_gas.append(sdot_k_gas)"
   ]
  },
  {
   "cell_type": "markdown",
   "metadata": {},
   "source": [
    "# 2. Solve DAE system\n",
    " \n",
    "## 2.1 calculate the initial values of vec0 and vecp0"
   ]
  },
  {
   "cell_type": "code",
   "execution_count": 116,
   "metadata": {
    "collapsed": false
   },
   "outputs": [],
   "source": [
    "R =  8.314 #J / mol. K\n",
    "T = 1713\n",
    "D = 5.08 * 10**-2 #diameter of the tube [m]\n",
    "Ac = np.pi * D**2/4 # cross section of the tube [m]\n",
    "Vdot = 588 * 10**-6/60 # volumetric rate [m^3/s] \n",
    "u0 = Vdot * Ac\n",
    "nu = 5.7E-5 #kg/(m s)\n",
    "Gamma = 0.417E-7 #mol/m^2 site desity\n",
    "rho0 = gas.density\n",
    "\n",
    "#p = 2 * ct.one_atm / 760.0 #Pa ~2Torr\n",
    "p0 = 2.632E-3 * ct.one_atm\n",
    "Z_k_0 = [float(i) for i in np.array(clf)[:,2]] #Z_HN_SIF_0,Z_HN_NH2_0,Z_F3SI_NH2_0,Z_F2SINH_0,Z_H2NFSINH_0,Z_HNFSINH2_0\n",
    "sdot_k_0 = [float(i) for i in np.array(clf)[:,1]]\n",
    "sigma_k = [2, 2, 2, 2, 2, 4]\n",
    "perim = np.pi * D\n",
    "Y_k_tot = []\n",
    "for i in gas.species_names:\n",
    "    Y_k_0 = gas.Y[gas.species_index(i)]\n",
    "    #solve the initial value of vecp0\n",
    "    a = np.array([[rho0, u0, 0, 0, 0, 0, 0, 0, 0, 0],\\\n",
    "                  [0, 0, rho0*u0*Ac,0, 0, 0, 0, 0, 0, 0],\\\n",
    "                  [2*rho0*u0, u0**2, 0, 1, 0, 0, 0, 0, 0, 0],\\\n",
    "                  [0,-R*T/gas.mean_molecular_weight, 0, 1, 0, 0, 0, 0, 0, 0],\\\n",
    "                  [0, 0, 0, 0, 1, 0, 0, 0, 0, 0],\\\n",
    "                  [0, 0, 0, 0, 0, 1, 0, 0, 0, 0],\\\n",
    "                  [0, 0, 0, 0, 0, 0, 1, 0, 0, 0],\\\n",
    "                  [0, 0, 0, 0, 0, 0, 0, 1, 0, 0],\\\n",
    "                  [0, 0, 0, 0, 0, 0, 0, 0, 1, 0],\\\n",
    "                  [0, 0, 0, 0, 0, 0, 0, 0, 0, 1]])\n",
    "\n",
    "    b = np.array([perim*np.sum(sdot_gas*gas.molecular_weights)/Ac,\\\n",
    "                  -Y_k_0*perim*np.sum(sdot_gas*gas.molecular_weights)+gas.net_production_rates[gas.species_index(i)]*gas.molecular_weights[gas.species_index(i)]*Ac+gas_Si_N_interface.net_production_rates[gas_Si_N_interface.kinetics_species_index(i)]*gas.molecular_weights[gas.species_index(i)]*perim,\\\n",
    "                  -8*rho0*u0*nu*np.pi/Ac,\\\n",
    "                  0,\\\n",
    "                  sdot_k_0[0]*sigma_k[0]/(Gamma*u0),\\\n",
    "                  sdot_k_0[1]*sigma_k[1]/(Gamma*u0),\\\n",
    "                  sdot_k_0[2]*sigma_k[2]/(Gamma*u0),\\\n",
    "                  sdot_k_0[3]*sigma_k[3]/(Gamma*u0),\\\n",
    "                  sdot_k_0[4]*sigma_k[4]/(Gamma*u0),\\\n",
    "                  sdot_k_0[5]*sigma_k[5]/(Gamma*u0)])\n",
    "    #we store all the unknowns into a vector, and determine the initial value of vec and the prime of vec\n",
    "    Y_k_tot.append(np.linalg.solve(a, b)[2])\n",
    "vec0 = np.append(np.append(np.append([u0, rho0], gas.Y),p0),Z_k_0)\n",
    "vecp0 = np.append(np.append(np.linalg.solve(a, b)[:2],Y_k_tot),np.linalg.solve(a, b)[3:])   "
   ]
  },
  {
   "cell_type": "raw",
   "metadata": {
    "collapsed": true
   },
   "source": [
    "#check Y_H2\n",
    "R =  8.314 #J / mol. K\n",
    "T = 1713\n",
    "D = 5.08 * 10**-2 #diameter of the tube [m]\n",
    "Ac = np.pi * D**2/4 # cross section of the tube [m]\n",
    "Vdot = 588 * 10**-6/60 # volumetric rate [m^3/s] \n",
    "u0 = Vdot * Ac\n",
    "nu = 5.7E-5 #kg/(m s)\n",
    "Gamma = 0.417E-7 #mol/m^2 site desity\n",
    "rho0 = gas.density\n",
    "Y_H2_0 = gas.Y[gas.species_index('H2')]\n",
    "#p = 2 * ct.one_atm / 760.0 #Pa ~2Torr\n",
    "p0 = 2.632E-3 * ct.one_atm\n",
    "Z_k_0 = [float(i) for i in np.array(clf)[:,2]] #Z_HN_SIF_0,Z_HN_NH2_0,Z_F3SI_NH2_0,Z_F2SINH_0,Z_H2NFSINH_0,Z_HNFSINH2_0\n",
    "sdot_k_0 = [float(i) for i in np.array(clf)[:,1]]\n",
    "sigma_k = [2, 2, 2, 2, 2, 4]\n",
    "perim = np.pi * D\n",
    "#solve the initial value of vecp0\n",
    "a = np.array([[rho0, u0, 0, 0, 0, 0, 0, 0, 0, 0],\\\n",
    "              [0, 0, rho0*u0*Ac,0, 0, 0, 0, 0, 0, 0],\\\n",
    "              [2*rho0*u0, u0**2, 0, 1, 0, 0, 0, 0, 0, 0],\\\n",
    "              [0,-R*T/gas.mean_molecular_weight, 0, 1, 0, 0, 0, 0, 0, 0],\\\n",
    "              [0, 0, 0, 0, 1, 0, 0, 0, 0, 0],\\\n",
    "              [0, 0, 0, 0, 0, 1, 0, 0, 0, 0],\\\n",
    "              [0, 0, 0, 0, 0, 0, 1, 0, 0, 0],\\\n",
    "              [0, 0, 0, 0, 0, 0, 0, 1, 0, 0],\\\n",
    "              [0, 0, 0, 0, 0, 0, 0, 0, 1, 0],\\\n",
    "              [0, 0, 0, 0, 0, 0, 0, 0, 0, 1]])\n",
    "\n",
    "b = np.array([perim*np.sum(sdot_gas*gas.molecular_weights)/Ac,\\\n",
    "              -Y_H2_0*perim*np.sum(sdot_gas*gas.molecular_weights)+gas.net_production_rates[gas.species_index('H2')]*gas.molecular_weights[gas.species_index('H2')]*Ac+gas_Si_N_interface.net_production_rates[gas_Si_N_interface.kinetics_species_index('H2')]*gas.molecular_weights[gas.species_index('H2')]*perim,\\\n",
    "              -8*rho0*u0*nu*np.pi/Ac,\\\n",
    "              0,\\\n",
    "              sdot_k_0[0]*sigma_k[0]/(Gamma*u0),\\\n",
    "              sdot_k_0[1]*sigma_k[1]/(Gamma*u0),\\\n",
    "              sdot_k_0[2]*sigma_k[2]/(Gamma*u0),\\\n",
    "              sdot_k_0[3]*sigma_k[3]/(Gamma*u0),\\\n",
    "              sdot_k_0[4]*sigma_k[4]/(Gamma*u0),\\\n",
    "              sdot_k_0[5]*sigma_k[5]/(Gamma*u0)])\n",
    "#we store all the unknowns into a vector, and determine the initial value of vec and the prime of vec\n",
    "vec0  = np.append([u0, rho0, Y_H2_0, p0],Z_k_0)\n",
    "vecp0 = np.linalg.solve(a, b)"
   ]
  },
  {
   "cell_type": "markdown",
   "metadata": {},
   "source": [
    "## 2.2 IDA solver"
   ]
  },
  {
   "cell_type": "code",
   "execution_count": 143,
   "metadata": {
    "collapsed": true
   },
   "outputs": [],
   "source": [
    "def residual(z, vec, vecp, result):\n",
    "    \"\"\" we create the residual equations for the problem\"\"\"\n",
    "    T = 1713\n",
    "    gas.TPY = T,vec[2+gas.n_species],vec[2:2+gas.n_species]\n",
    "    bulk_Si.TP = T,vec[2+gas.n_species]\n",
    "    bulk_N.TP = T,vec[2+gas.n_species]\n",
    "    gas_Si_N_interface.TP = T,vec[2+gas.n_species]\n",
    "    gas_Si_N_interface.advance_coverages(50.0)\n",
    "    sdot_gas = []\n",
    "    for i in range(gas.n_species):\n",
    "        spec_name = gas.species_names[i]\n",
    "        sdot_k_gas = gas_Si_N_interface.net_production_rates[gas_Si_N_interface.kinetics_species_index(spec_name)]\n",
    "        sdot_gas.append(sdot_k_gas)\n",
    "    result[0] = vec[0]*vecp[1]+vec[1]*vecp[0]-perim*np.sum(sdot_gas*gas.molecular_weights)/Ac\n",
    "    for k in range(gas.n_species):\n",
    "        result[1+k] = vec[1]*vec[0]*Ac*vecp[2+k] + vec[2+k]*perim*np.sum(sdot_gas*gas.molecular_weights)\\\n",
    "                      - gas.net_production_rates[k]*gas.molecular_weights[k]*Ac\\\n",
    "                      - gas_Si_N_interface.net_production_rates[k]*gas.molecular_weights[k]*perim\n",
    "    result[1+gas.n_species] = 2*vec[1]*vec[0]*vecp[0]+vec[0]**2*vecp[1]+vecp[2+gas.n_species]+8*vec[1]*vec[0]*nu*np.pi/Ac\n",
    "    result[2+gas.n_species] = vec[2+gas.n_species]*gas.mean_molecular_weight-vec[1]*R*T\n",
    "    for j in range(gas_Si_N_interface.n_species):\n",
    "        result[3+gas.n_species+j] = vecp[3+gas.n_species+j]\\\n",
    "        - gas_Si_N_interface.net_production_rates[gas.n_species+j]*sigma_k[j]/(Gamma*vec[0])"
   ]
  },
  {
   "cell_type": "code",
   "execution_count": 152,
   "metadata": {
    "collapsed": false
   },
   "outputs": [
    {
     "data": {
      "text/plain": [
       "SolverReturn(flag=-4, values=SolverVariables(t=None, y=None, ydot=None), errors=SolverVariables(t=0.0, y=array([  1.98629332e-08,   5.51738330e-04,   0.00000000e+00,\n",
       "         0.00000000e+00,   0.00000000e+00,   0.00000000e+00,\n",
       "         0.00000000e+00,   0.00000000e+00,   0.00000000e+00,\n",
       "         0.00000000e+00,   0.00000000e+00,   0.00000000e+00,\n",
       "         0.00000000e+00,   0.00000000e+00,   5.04595486e-01,\n",
       "         0.00000000e+00,   0.00000000e+00,   0.00000000e+00,\n",
       "         4.95404514e-01,   2.66687400e+02,   6.25700744e-02,\n",
       "         9.15541476e-01,   3.14218199e-04,   2.08511753e-02,\n",
       "         2.41018605e-04,   4.82037210e-04]), ydot=array([ -4.37027378e+00,   1.82158499e-13,   0.00000000e+00,\n",
       "         1.06871921e+03,   0.00000000e+00,   0.00000000e+00,\n",
       "         0.00000000e+00,   1.69887907e+04,   0.00000000e+00,\n",
       "         0.00000000e+00,   0.00000000e+00,   0.00000000e+00,\n",
       "         3.76537084e+08,   2.32994343e+00,  -3.78693373e+08,\n",
       "         1.04342054e+01,   0.00000000e+00,   0.00000000e+00,\n",
       "         2.13821875e+06,   8.80429616e-11,  -2.55658876e-07,\n",
       "         2.55658876e-07,  -2.55658876e-07,   0.00000000e+00,\n",
       "         1.91744157e-07,   0.00000000e+00])), roots=SolverVariables(t=None, y=None, ydot=None), tstop=SolverVariables(t=None, y=None, ydot=None), message='Convergence test failures occurred too many times during one internal time step or minimum step size was reached.')"
      ]
     },
     "execution_count": 152,
     "metadata": {},
     "output_type": "execute_result"
    }
   ],
   "source": [
    "solver = dae('ida', residual, \n",
    "             compute_initcond='yp0', #If yp0, then the differential variables (y of the ode system at time 0) will be used to solve for the derivatives of the differential variables, so yp0 will be calculated\n",
    "             first_step_size=1e-18,\n",
    "             atol=1e-6, #absolute tolerance for solution\n",
    "             rtol=1e-6, #relative tolerance for solution\n",
    "             algebraic_vars_idx=[4], #If the given problem is of type DAE, some items of the residual\n",
    "                    #vector returned by the 'resfn' have to be treated as\n",
    "                    #algebraic equations, and algebraic variables must be defined.\n",
    "                    #These algebraic variables are denoted by the position (index)\n",
    "                    #in the state vector y.\n",
    "                    #All these indexes have to be specified in the\n",
    "                    #'algebraic_vars_idx' array.\n",
    "             #compute_initcond_t0 = 60,#When calculating the initial condition, specifies the time\n",
    "                                      # until which the solver tries to\n",
    "                                      #get the consistent values for either y0 or yp0 relative to\n",
    "                                      #the starting time. Positive if t1 > t0, negative if t1 < t0\n",
    "             max_steps=5000,\n",
    "             old_api=False)#Forces use of old api (tuple of 7) if True or\n",
    "                    #new api (namedtuple) if False.\n",
    "                    #Other options may require new api, hence using this should\n",
    "                    #be avoided if possible.\n",
    "solution = solver.solve(np.arange(0,0.6,0.1), vec0, vecp0)\n",
    "solution"
   ]
  }
 ],
 "metadata": {
  "kernelspec": {
   "display_name": "Python 2",
   "language": "python",
   "name": "python2"
  },
  "language_info": {
   "codemirror_mode": {
    "name": "ipython",
    "version": 2
   },
   "file_extension": ".py",
   "mimetype": "text/x-python",
   "name": "python",
   "nbconvert_exporter": "python",
   "pygments_lexer": "ipython2",
   "version": "2.7.13"
  }
 },
 "nbformat": 4,
 "nbformat_minor": 2
}
