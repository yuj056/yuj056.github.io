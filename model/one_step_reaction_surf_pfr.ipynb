{
 "cells": [
  {
   "cell_type": "code",
   "execution_count": 1,
   "metadata": {
    "collapsed": true
   },
   "outputs": [],
   "source": [
    "from __future__ import print_function, division\n",
    "from scipy.optimize import fsolve #to get the initial value of vecp0\n",
    "import numpy as np\n",
    "from scikits.odes import dae\n",
    "import pandas as pd\n",
    "import time\n",
    "import cantera as ct\n",
    "import os\n",
    "import matplotlib.pyplot as plt\n",
    "%matplotlib inline\n",
    "import matplotlib.cm as cm\n",
    "import prettyplotlib as ppl\n",
    "from prettyplotlib import brewer2mpl\n",
    "from scipy.optimize import fsolve, root\n",
    "plt.rcParams['axes.linewidth'] = 1\n",
    "plt.rcParams['font.family'] = 'Times New Roman'\n",
    "colors = brewer2mpl.get_map('Set2','qualitative',8).mpl_colors"
   ]
  },
  {
   "cell_type": "markdown",
   "metadata": {},
   "source": [
    "The absorption  one-step reaction H2O (g) + O (s) <=> H2O (s) is used as the simple mechanism for simulating the plug flow reactor with surface chemistry. Where g and s mean the gas phase and surface phase respectively and O stands for the empty site.\n",
    "## 1. IDA solver to calculate Zk"
   ]
  },
  {
   "cell_type": "code",
   "execution_count": 2,
   "metadata": {
    "collapsed": false
   },
   "outputs": [
    {
     "data": {
      "text/latex": [
       "Since the heterogeneous production rates for gas species $\\dot{g_k}$ need to be determined based on the composition of surface and gas , we first need to calculate the site fraction of surface species $Z_k$ of $K_s$ species\n",
       "\\begin{align}\n",
       "    \\frac{dZ_k}{dt} &= \\frac{\\dot{s_k}\\sigma_k}{\\Gamma}\\\\\n",
       "    \\dot{s_k} &= 0 ~~~\\text{at steady state for 1 to $K_s$ - 1 species}\\\\                 \n",
       "    \\sum_{phase}{Z_k}&= 1 \n",
       "\\end{align}\n",
       "The procedure is described as follows:<br>\n",
       "1. IDA solver is applied to solve the DAE which includes the following first and third equations. In order to minimize the error, the species with initial large site fraction should be determined by the algebraic equation, site fractions of other species can be obtained by the differential equation.<br>\n",
       "\n",
       "2. Use the while loop to find the site fractions at steady state. When $\\dot{s_k}$ = 0 for $K_s$-1 species, the system reraches steady state"
      ],
      "text/plain": [
       "<IPython.core.display.Latex object>"
      ]
     },
     "metadata": {},
     "output_type": "display_data"
    }
   ],
   "source": [
    "%%latex\n",
    "Since the heterogeneous production rates for gas species $\\dot{g_k}$ need to be determined based on the composition of surface and gas , we first need to calculate the site fraction of surface species $Z_k$ of $K_s$ species\n",
    "\\begin{align}\n",
    "    \\frac{dZ_k}{dt} &= \\frac{\\dot{s_k}\\sigma_k}{\\Gamma}\\\\\n",
    "    \\dot{s_k} &= 0 ~~~\\text{at steady state for 1 to $K_s$ - 1 species}\\\\                 \n",
    "    \\sum_{phase}{Z_k}&= 1 \n",
    "\\end{align}\n",
    "The procedure is described as follows:<br>\n",
    "1. IDA solver is applied to solve the DAE which includes the following first and third equations. In order to minimize the error, the species with initial large site fraction should be determined by the algebraic equation, site fractions of other species can be obtained by the differential equation.<br>\n",
    "\n",
    "2. Use the while loop to find the site fractions at steady state. When $\\dot{s_k}$ = 0 for $K_s$-1 species, the system reraches steady state"
   ]
  },
  {
   "cell_type": "markdown",
   "metadata": {},
   "source": [
    "### 1.1 check the Zk at the entrance of the tube"
   ]
  },
  {
   "cell_type": "code",
   "execution_count": 8,
   "metadata": {
    "collapsed": false
   },
   "outputs": [
    {
     "name": "stdout",
     "output_type": "stream",
     "text": [
      "[ 0.99701923  0.00298077]\n",
      "[ 0.  0.  0.]\n"
     ]
    }
   ],
   "source": [
    "R =  8.314 #J / mol. K\n",
    "D = 5.08 * 10**-2 #diameter of the tube [m]\n",
    "Ac = np.pi * D**2/4 # cross section of the tube [m]\n",
    "Vdot = 588 * 10**-6/60 # volumetric rate [m^3/s] \n",
    "u0 = Vdot * Ac\n",
    "nu = 1.418E-7 #m2/s\n",
    "Gamma = 0.417E-7 #mol/m^2 site desity\n",
    "sigma_k = [0, 2] #site occupancy number\n",
    "perim = np.pi * D #perimeter of the tube\n",
    "\n",
    "p = ct.one_atm \n",
    "tinlet = 500.0\n",
    "tsurf = 500.0\n",
    "transport = 'Mix'\n",
    "# composition of the inlet premixed gas\n",
    "comp1 = 'H2O:1'\n",
    " \n",
    "# create gas object\n",
    "mech = '/Users/yuanjie/Dropbox/Cantera_intern/code/H2O_absorp/small_mec.cti'\n",
    "gas = ct.Solution(mech,'gas')\n",
    "gas.TPY = tinlet, p, comp1\n",
    "gas.set_unnormalized_mass_fractions(gas.Y)\n",
    "\n",
    "#create the interface object\n",
    "surf_phase = ct.Interface(mech, 'oxide_surface',[gas])\n",
    "surf_phase.TP = tsurf,p\n",
    "surf_phase.set_unnormalized_coverages\n",
    "sigma_k = [0,2]\n",
    "\n",
    "Z0 = np.array([1,0])\n",
    "Zp0 = surf_phase.net_production_rates[-surf_phase.n_species:]*sigma_k[:surf_phase.n_species]/Gamma\n",
    "\n",
    "def residual_dZkdt(t, Z, dotZ, result):\n",
    "    \"\"\"Z is a vector stored the site fraction of all surface species\"\"\"\n",
    "    surf_phase.coverages = Z\n",
    "    for i in range(surf_phase.n_species):\n",
    "        result[i] = dotZ[i] - surf_phase.net_production_rates[-surf_phase.n_species+i]*sigma_k[i]/Gamma\n",
    "    np.delete(result, np.argmax(Z0)) # remove the largest site fraction element\n",
    "    result[np.argmax(Z0)] = np.sum(Z) - 1\n",
    "\n",
    "\"\"\"\n",
    "def residual_dZkdt(t, Z, dotZ, result):\n",
    "    #Z is a vector stored the site fraction of all surface species\n",
    "    surf_phase.coverages = Z\n",
    "    for i in range(surf_phase.n_species-1):\n",
    "        result[i] = dotZ[i] - surf_phase.net_production_rates[-surf_phase.n_species+i]*sigma_k[i]/Gamma\n",
    "    result[surf_phase.n_species-1] = np.sum(Z) - 1\n",
    "\"\"\"\n",
    "solver = dae('ida', residual_dZkdt, \n",
    "             compute_initcond='yp0', #If yp0, then the differential variables (y of the ode system at time 0) will be used to solve for the derivatives of the differential variables, so yp0 will be calculated\n",
    "             first_step_size=1e-18,\n",
    "             atol=1e-6, #absolute tolerance for solution\n",
    "             rtol=1e-6, #relative tolerance for solution\n",
    "             algebraic_vars_idx=[np.argmax(Z0)], #If the given problem is of type DAE, some items of the residual\n",
    "                    #vector returned by the 'resfn' have to be treated as\n",
    "                    #algebraic equations, and algebraic variables must be defined.\n",
    "                    #These algebraic variables are denoted by the position (index)\n",
    "                    #in the state vector y.\n",
    "                    #All these indexes have to be specified in the\n",
    "                    #'algebraic_vars_idx' array.\n",
    "             #compute_initcond_t0 = 60,#When calculating the initial condition, specifies the time\n",
    "                                      # until which the solver tries to\n",
    "                                      #get the consistent values for either y0 or yp0 relative to\n",
    "                                      #the starting time. Positive if t1 > t0, negative if t1 < t0\n",
    "             max_steps=5000,\n",
    "             old_api=False)#Forces use of old api (tuple of 7) if True or\n",
    "                    #new api (namedtuple) if False.\n",
    "                    #Other options may require new api, hence using this should\n",
    "                    #be avoided if possible.\n",
    "t=0\n",
    "\"\"\"\n",
    "Partial_Surf_NetProdRate = surf_phase.net_production_rates[-surf_phase.n_species:]\n",
    "np.delete(Partial_Surf_NetProdRate,np.argmax(Z0))\n",
    "while np.any(Partial_Surf_NetProdRate!=np.zeros(surf_phase.n_species-1)):\n",
    "\"\"\"\n",
    "while np.any(surf_phase.net_production_rates[-surf_phase.n_species:]!=np.zeros(surf_phase.n_species)):\n",
    "    t = t + 10\n",
    "    solution = solver.solve(np.array([0,t]), Z0, Zp0)\n",
    "    surf_phase.coverages = solution.values.y[1,:]\n",
    "#check results with advance_to_coverage function, the results are the same\n",
    "print(surf_phase.coverages)\n",
    "print(surf_phase.net_production_rates)"
   ]
  },
  {
   "cell_type": "markdown",
   "metadata": {},
   "source": [
    "## 2. Calculate the thermal and kinetic properties along with the flow direction\n",
    "### 2.1 Determine the initial value of those variables"
   ]
  },
  {
   "cell_type": "code",
   "execution_count": 4,
   "metadata": {
    "collapsed": false
   },
   "outputs": [
    {
     "data": {
      "text/latex": [
       "Since IDA solver needs input the initial value of variables and their primes. The following nonlinear equation system has been solved by the nonlinear solver.\n",
       "\\begin{align}\n",
       "    u_0\\rho_0' + \\rho_0 u_0' - \\frac{p'}{A_c}\\sum^{K_g}\\dot{s_k}W_k &= 0\\\\\n",
       "    \\rho_0 u_0 A_c Y_{k,0}' + Y_{k,0} p'\\sum^{K_g}\\dot{s_k}W_k - \\dot{\\omega_k}W_kA_c - \\dot{s_k}W_k p' &=0 \\\\                 \n",
       "    2\\rho_0 u_0 u_0' + u_0^2\\rho_0' + P_0' + \\frac{8\\rho_0 \\nu \\pi}{A_c} &=0\\\\\n",
       "    -RT\\rho_0' + \\bar{W_0}P_0' - P_0\\frac{\\sum^{K_g}Y_k'/W_k}{(\\sum^{K_g}Y_k/W_k)^2} &= 0 \n",
       "\\end{align}"
      ],
      "text/plain": [
       "<IPython.core.display.Latex object>"
      ]
     },
     "metadata": {},
     "output_type": "display_data"
    }
   ],
   "source": [
    "%%latex\n",
    "Since IDA solver needs input the initial value of variables and their primes. The following nonlinear equation system has been solved by the nonlinear solver.\n",
    "\\begin{align}\n",
    "    u_0\\rho_0' + \\rho_0 u_0' - \\frac{p'}{A_c}\\sum^{K_g}\\dot{s_k}W_k &= 0\\\\\n",
    "    \\rho_0 u_0 A_c Y_{k,0}' + Y_{k,0} p'\\sum^{K_g}\\dot{s_k}W_k - \\dot{\\omega_k}W_kA_c - \\dot{s_k}W_k p' &=0 \\\\                 \n",
    "    2\\rho_0 u_0 u_0' + u_0^2\\rho_0' + P_0' + \\frac{8\\rho_0 \\nu \\pi}{A_c} &=0\\\\\n",
    "    -RT\\rho_0' + \\bar{W_0}P_0' - P_0\\frac{\\sum^{K_g}Y_k'/W_k}{(\\sum^{K_g}Y_k/W_k)^2} &= 0 \n",
    "\\end{align}"
   ]
  },
  {
   "cell_type": "code",
   "execution_count": 14,
   "metadata": {
    "collapsed": false
   },
   "outputs": [
    {
     "data": {
      "text/plain": [
       "array([  3.00639846e-21,  -6.64594319e-14,  -3.42113883e-49,\n",
       "        -1.53354185e-11])"
      ]
     },
     "execution_count": 14,
     "metadata": {},
     "output_type": "execute_result"
    }
   ],
   "source": [
    "rho0 = gas.density\n",
    "p0 = ct.one_atm\n",
    "T = 500\n",
    "def equations(vecp0):\n",
    "    eq = np.empty(3+gas.n_species)\n",
    "    eq[0] = vecp0[0]*rho0 + vecp0[1]*u0 - perim * np.sum(surf_phase.net_production_rates[:gas.n_species] * gas.molecular_weights)/Ac\n",
    "    for i in range(gas.n_species):   \n",
    "        eq[1+i] = rho0 * u0 * Ac * vecp0[2+i]\\\n",
    "                  + gas.Y[i] * perim * np.sum(surf_phase.net_production_rates[:gas.n_species] * gas.molecular_weights)\\\n",
    "                  - gas.net_production_rates[i] * gas.molecular_weights[i] * Ac\\\n",
    "                  - surf_phase.net_production_rates[i] * gas.molecular_weights[i] * perim\n",
    "    eq[1+gas.n_species] = 2*rho0 * u0 * vecp0[0] + u0**2*vecp0[1] + vecp0[2+gas.n_species] + 8*rho0*u0*nu*np.pi/Ac\n",
    "    eq[2+gas.n_species] = -R*T*vecp0[1] + gas.mean_molecular_weight*vecp0[2+gas.n_species] - p0*1/np.power(np.sum(gas.Y/gas.molecular_weights),2)*np.sum(vecp0[2:2+gas.n_species]/gas.molecular_weights)\n",
    "    return eq\n",
    "vec0 = np.append(np.append([u0, rho0], gas.Y),p0)\n",
    "vecp_guess = np.array([0,0,0,0])\n",
    "vecp0 = fsolve(equations, vecp_guess)  \n",
    "vecp0"
   ]
  },
  {
   "cell_type": "markdown",
   "metadata": {},
   "source": [
    "### 2.2 IDA solver"
   ]
  },
  {
   "cell_type": "code",
   "execution_count": 39,
   "metadata": {
    "collapsed": false
   },
   "outputs": [],
   "source": [
    "#to calcualte the gas species\n",
    "def residual(z, vec, vecp, result):\n",
    "    \"\"\" vec = [u, rho, Y_k, p]\"\"\"\n",
    "    T = 500\n",
    "    gas.set_unnormalized_mass_fractions(vec[2:2+gas.n_species])\n",
    "    gas.TPY = T,vec[2+gas.n_species],vec[2:2+gas.n_species]\n",
    "    gas.density = vec[1]\n",
    "    surf_phase.TP = T,vec[2+gas.n_species]\n",
    "    surf_phase.set_unnormalized_coverages\n",
    "    sigma_k = [0,2]\n",
    "    Z0 = np.array([1,0])\n",
    "    Zp0 = surf_phase.net_production_rates[-surf_phase.n_species:]*sigma_k[:surf_phase.n_species]/Gamma\n",
    "    def residual_dZkdt(t, Z, dotZ, result):\n",
    "        \"\"\"Z is a vector stored the site fraction of all surface species\"\"\"\n",
    "        surf_phase.coverages = Z\n",
    "        for i in range(surf_phase.n_species):\n",
    "            result[i] = dotZ[i] - surf_phase.net_production_rates[-surf_phase.n_species+i]*sigma_k[i]/Gamma\n",
    "        np.delete(result, np.argmax(Z0)) # remove the largest site fraction element\n",
    "        result[np.argmax(Z0)] = np.sum(Z) - 1\n",
    "\n",
    "    solver = dae('ida', residual_dZkdt, \n",
    "             compute_initcond='yp0', \n",
    "             atol=1e-6, \n",
    "             rtol=1e-6,\n",
    "             algebraic_vars_idx=[np.argmax(Z0)], \n",
    "             max_steps=5000,\n",
    "             old_api=False)\n",
    "    t=0\n",
    "    while np.any(surf_phase.net_production_rates[-surf_phase.n_species:]!=np.zeros(surf_phase.n_species)):\n",
    "        t = t + 10\n",
    "        solution = solver.solve(np.array([0,t]), Z0, Zp0)\n",
    "        surf_phase.coverages = solution.values.y[1,:]\n",
    "\n",
    "    sdot_gas = surf_phase.net_production_rates[:gas.n_species]\n",
    "    result[0] = vec[0]*vecp[1]+vec[1]*vecp[0]-perim*np.sum(sdot_gas*gas.molecular_weights)/Ac\n",
    "    for k in range(gas.n_species):\n",
    "        result[1+k] = vec[1]*vec[0]*Ac*vecp[2+k] + vec[2+k]*perim*np.sum(sdot_gas*gas.molecular_weights)\\\n",
    "                      - gas.net_production_rates[k]*gas.molecular_weights[k]*Ac\\\n",
    "                      - surf_phase.net_production_rates[k]*gas.molecular_weights[k]*perim\n",
    "    result[1+gas.n_species] = 2*vec[1]*vec[0]*vecp[0]+vec[0]**2*vecp[1]+vecp[2+gas.n_species]+8*vec[1]*vec[0]*nu*np.pi/Ac\n",
    "    result[2+gas.n_species] = vec[2+gas.n_species]*gas.mean_molecular_weight-vec[1]*R*T"
   ]
  },
  {
   "cell_type": "code",
   "execution_count": 42,
   "metadata": {
    "collapsed": false
   },
   "outputs": [
    {
     "name": "stderr",
     "output_type": "stream",
     "text": [
      "Exception TypeError: 'len() of unsized object' in 'scikits.odes.sundials.ida._res' ignored\n",
      "Exception TypeError: 'len() of unsized object' in 'scikits.odes.sundials.ida._res' ignored\n",
      "Exception TypeError: 'len() of unsized object' in 'scikits.odes.sundials.ida._res' ignored\n",
      "Exception TypeError: 'len() of unsized object' in 'scikits.odes.sundials.ida._res' ignored\n",
      "Exception TypeError: 'len() of unsized object' in 'scikits.odes.sundials.ida._res' ignored\n",
      "Exception TypeError: 'len() of unsized object' in 'scikits.odes.sundials.ida._res' ignored\n",
      "Exception TypeError: 'len() of unsized object' in 'scikits.odes.sundials.ida._res' ignored\n",
      "Exception TypeError: 'len() of unsized object' in 'scikits.odes.sundials.ida._res' ignored\n",
      "Exception TypeError: 'len() of unsized object' in 'scikits.odes.sundials.ida._res' ignored\n",
      "Exception TypeError: 'len() of unsized object' in 'scikits.odes.sundials.ida._res' ignored\n",
      "Exception TypeError: 'len() of unsized object' in 'scikits.odes.sundials.ida._res' ignored\n",
      "Exception TypeError: 'len() of unsized object' in 'scikits.odes.sundials.ida._res' ignored\n",
      "Exception TypeError: 'len() of unsized object' in 'scikits.odes.sundials.ida._res' ignored\n",
      "Exception TypeError: 'len() of unsized object' in 'scikits.odes.sundials.ida._res' ignored\n",
      "Exception TypeError: 'len() of unsized object' in 'scikits.odes.sundials.ida._res' ignored\n",
      "Exception TypeError: 'len() of unsized object' in 'scikits.odes.sundials.ida._res' ignored\n",
      "Exception TypeError: 'len() of unsized object' in 'scikits.odes.sundials.ida._res' ignored\n",
      "Exception TypeError: 'len() of unsized object' in 'scikits.odes.sundials.ida._res' ignored\n",
      "Exception TypeError: 'len() of unsized object' in 'scikits.odes.sundials.ida._res' ignored\n",
      "Exception TypeError: 'len() of unsized object' in 'scikits.odes.sundials.ida._res' ignored\n",
      "Exception TypeError: 'len() of unsized object' in 'scikits.odes.sundials.ida._res' ignored\n",
      "Exception TypeError: 'len() of unsized object' in 'scikits.odes.sundials.ida._res' ignored\n",
      "Exception TypeError: 'len() of unsized object' in 'scikits.odes.sundials.ida._res' ignored\n",
      "Exception TypeError: 'len() of unsized object' in 'scikits.odes.sundials.ida._res' ignored\n",
      "Exception TypeError: 'len() of unsized object' in 'scikits.odes.sundials.ida._res' ignored\n"
     ]
    },
    {
     "data": {
      "text/plain": [
       "SolverReturn(flag=-14, values=SolverVariables(t=None, y=None, ydot=None), errors=SolverVariables(t=0.0, y=array([  1.98629332e-08,   4.39089919e-01,   1.00000000e+00,\n",
       "         1.01325000e+05]), ydot=array([  3.00639846e-21,  -6.64594319e-14,  -3.42113883e-49,\n",
       "        -1.53354185e-11])), roots=SolverVariables(t=None, y=None, ydot=None), tstop=SolverVariables(t=None, y=None, ydot=None), message='The residual routine or the linear setup or solve routine had a recoverable error, but IDACalcIC was unable to recover.')"
      ]
     },
     "execution_count": 42,
     "metadata": {},
     "output_type": "execute_result"
    }
   ],
   "source": [
    "solver = dae('ida', residual, \n",
    "             compute_initcond='yp0',\n",
    "             first_step_size=1e-18,\n",
    "             atol=1e-6,\n",
    "             rtol=1e-6, \n",
    "             algebraic_vars_idx=[2+gas.n_species], \n",
    "             max_steps=5000,\n",
    "             old_api=False)\n",
    "solution = solver.solve(np.arange(0,0.2,0.1), vec0, vecp0)\n",
    "solution"
   ]
  }
 ],
 "metadata": {
  "kernelspec": {
   "display_name": "Python 2",
   "language": "python",
   "name": "python2"
  },
  "language_info": {
   "codemirror_mode": {
    "name": "ipython",
    "version": 2
   },
   "file_extension": ".py",
   "mimetype": "text/x-python",
   "name": "python",
   "nbconvert_exporter": "python",
   "pygments_lexer": "ipython2",
   "version": "2.7.13"
  }
 },
 "nbformat": 4,
 "nbformat_minor": 2
}
