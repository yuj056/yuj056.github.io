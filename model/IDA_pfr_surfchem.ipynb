{
 "cells": [
  {
   "cell_type": "code",
   "execution_count": 1,
   "metadata": {
    "collapsed": true
   },
   "outputs": [],
   "source": [
    "from __future__ import print_function, division\n",
    "from scipy.optimize import fsolve #to get the initial value of vecp0\n",
    "import numpy as np\n",
    "from scikits.odes.sundials import ida\n",
    "from scikits.odes import dae\n",
    "import pandas as pd\n",
    "import time\n",
    "import cantera as ct\n",
    "import os\n",
    "import matplotlib.pyplot as plt\n",
    "%matplotlib inline\n",
    "import matplotlib.cm as cm\n",
    "import prettyplotlib as ppl\n",
    "from prettyplotlib import brewer2mpl\n",
    "#from sympy import linsolve\n",
    "plt.rcParams['axes.linewidth'] = 1\n",
    "plt.rcParams['font.family'] = 'Times New Roman'\n",
    "colors = brewer2mpl.get_map('Set2','qualitative',8).mpl_colors"
   ]
  },
  {
   "cell_type": "code",
   "execution_count": 2,
   "metadata": {
    "collapsed": true
   },
   "outputs": [],
   "source": [
    "############################### initial conditions ##################################################################\n",
    "#import the SiF4 + NH3 reaction mechnism\n",
    "mech ='/Users/yuanjie/Dropbox/Cantera_intern/code/gas_surf_phase/gas_surf_bulk/mec.cti'\n",
    "#import the models for gas and bulk\n",
    "ct.suppress_thermo_warnings()\n",
    "gas, bulk_Si, bulk_N = ct.import_phases(mech,['gas','SiBulk','NBulk',])\n",
    "\n",
    "#import the model for gas-Si-N interface\n",
    "gas_Si_N_interface = ct.Interface(mech, 'SI3N4',[gas,bulk_Si,bulk_N])\n",
    "T = 1713 #K\n",
    "p = 2 * ct.one_atm / 760.0 #Pa ~2Torr\n",
    "#p = 2.632E-3*ct.one_atm \n",
    "gas.TPX = T,p,\"NH3:6, SiF4:1\"\n",
    "bulk_Si.TP = T,p\n",
    "bulk_N.TP = T,p\n",
    "gas_Si_N_interface.TP = T,p\n",
    "R = 8314 #universal gas constant\n",
    "D = 5.08 * 10**-2 #diameter of the tube [m]\n",
    "Ac = np.pi * D**2/4 # cross section of the tube [m]\n",
    "Vdot = 588 * 10**-6/60 # volumetric rate [m^3/s]\n",
    "mu = 5.7E-5 #kg/(m s) dynamic viscosity\n",
    "perim = np.pi * D #perimeter of the tube\n",
    "sigma_k = [2, 2, 2, 2, 4, 2] #site fraction of surface species as the same order of CTI file\n",
    "#calculate the site fractions of surface species at the entrance of the tube at steady state\n",
    "gas_Si_N_interface.advance_coverages(100.0)\n",
    "Zk_0 = gas_Si_N_interface.coverages\n",
    "\n",
    "######################################## IDA solver ###################################################################\n",
    "def residual(z, vec, vecp, result):\n",
    "    \"\"\" we create the residual equations for the problem\n",
    "        vec = [u, rho, Yk, p, Zk]\n",
    "    \"\"\"\n",
    "    gas.TP = T,vec[2+gas.n_species]\n",
    "    gas.set_unnormalized_mass_fractions(vec[2:2+gas.n_species])\n",
    "    bulk_Si.TP = T,vec[2+gas.n_species]\n",
    "    bulk_N.TP = T,vec[2+gas.n_species]\n",
    "    gas_Si_N_interface.TP = T,vec[2+gas.n_species]\n",
    "    gas_Si_N_interface.set_unnormalized_coverages(vec[3+gas.n_species:])\n",
    "    \n",
    "    #mass continuity equation\n",
    "    result[0] = vec[0]*vecp[1]+vec[1]*vecp[0]-perim*np.sum(gas_Si_N_interface.net_production_rates[:gas.n_species]*gas.molecular_weights)/Ac\n",
    "    #conservation of species\n",
    "    for k in range(gas.n_species):\n",
    "        result[1+k] = vec[1]*vec[0]*Ac*vecp[2+k] + vec[2+k]*perim*np.sum(gas_Si_N_interface.net_production_rates[:gas.n_species]*gas.molecular_weights)\\\n",
    "                      - gas.net_production_rates[k]*gas.molecular_weights[k]*Ac\\\n",
    "                      - gas_Si_N_interface.net_production_rates[k]*gas.molecular_weights[k]*perim \n",
    "    #conservation of momentum\n",
    "    result[1+gas.n_species] = 2*vec[1]*vec[0]*vecp[0] + np.power(vec[0],2)*vecp[1] + vecp[2+gas.n_species] + 32*vec[0]*mu/D**2 \n",
    "    #equation of state\n",
    "    result[2+gas.n_species] = vec[2+gas.n_species]*gas.mean_molecular_weight - vec[1]*R*T\n",
    "    #algebraic constraints\n",
    "    for j in range(gas_Si_N_interface.n_species):\n",
    "        result[2+gas.n_species+j] = gas_Si_N_interface.net_production_rates[-gas_Si_N_interface.n_species+j]\n",
    "    #replace the constraints with the condition sum(Zk) = 1 for the largest site fraction species\n",
    "    index = np.argmax(gas_Si_N_interface.coverages)\n",
    "    result[2+gas.n_species+index] = np.sum(gas_Si_N_interface.coverages) - 1"
   ]
  },
  {
   "cell_type": "code",
   "execution_count": 4,
   "metadata": {
    "collapsed": true
   },
   "outputs": [],
   "source": [
    "########use ling to solve the initial vecp###########\n",
    "\"\"\"\n",
    "   a = coefficient of [u', rho', Yk', P']\n",
    "   b = RHS constant of each conservation equations\n",
    "\"\"\"\n",
    "rho0 = gas.density\n",
    "u0 = 11.53 #m/s\n",
    "################### a #########################\n",
    "a = np.zeros((3+gas.n_species,3+gas.n_species))\n",
    "a[0,:] = np.append([rho0,u0],np.zeros(1+gas.n_species))\n",
    "for i in range(gas.n_species):\n",
    "    a[1+i,2+i] = rho0*u0*Ac\n",
    "a[1+gas.n_species,:] = np.append(np.append([2*rho0*u0, u0**2],np.zeros(gas.n_species)),[1])\n",
    "coef = np.zeros(gas.n_species)\n",
    "for j in range(gas.n_species):\n",
    "    coef[j] = gas.P/gas.molecular_weights[j]/np.power(np.sum(gas.Y/gas.molecular_weights),2)\n",
    "a[2+gas.n_species,:] = np.append(np.append([0,R*T],coef),-gas.mean_molecular_weight)\n",
    "################### b ###########################\n",
    "b = np.zeros(3+gas.n_species)\n",
    "b[0] = perim*np.sum(gas_Si_N_interface.net_production_rates[:gas.n_species]*gas.molecular_weights)/Ac\n",
    "for i in range(gas.n_species):\n",
    "    b[1+i] = gas.net_production_rates[i]*gas.molecular_weights[i]*Ac\\\n",
    "             + gas_Si_N_interface.net_production_rates[i]*gas.molecular_weights[i]*perim\\\n",
    "             - gas.Y[i]*perim*np.sum(gas_Si_N_interface.net_production_rates[:gas.n_species]*gas.molecular_weights) \n",
    "b[1+gas.n_species] = -32*u0*mu/D**2\n",
    "b[2+gas.n_species] = 0\n",
    "part_vecp0 = np.linalg.solve(a,b)\n",
    "vecp0 = np.append(part_vecp0,np.zeros(gas_Si_N_interface.n_species))"
   ]
  },
  {
   "cell_type": "code",
   "execution_count": 6,
   "metadata": {
    "collapsed": false
   },
   "outputs": [
    {
     "data": {
      "text/plain": [
       "SolverReturn(flag=-14, values=SolverVariables(t=None, y=None, ydot=None), errors=SolverVariables(t=0.0, y=array([  1.15300000e+01,   5.51650066e-04,   0.00000000e+00,\n",
       "         0.00000000e+00,   0.00000000e+00,   0.00000000e+00,\n",
       "         0.00000000e+00,   0.00000000e+00,   0.00000000e+00,\n",
       "         0.00000000e+00,   0.00000000e+00,   0.00000000e+00,\n",
       "         0.00000000e+00,   0.00000000e+00,   5.04595486e-01,\n",
       "         0.00000000e+00,   0.00000000e+00,   0.00000000e+00,\n",
       "         4.95404514e-01,   2.66644737e+02,   6.25700848e-02,\n",
       "         9.15541628e-01,   3.14167985e-04,   2.08511788e-02,\n",
       "         2.40980048e-04,   4.81960097e-04]), ydot=array([  4.94349247e+00,  -4.45614933e-04,  -4.58918273e-17,\n",
       "         1.84080679e-06,   0.00000000e+00,   0.00000000e+00,\n",
       "         0.00000000e+00,   2.92622057e-05,   0.00000000e+00,\n",
       "         0.00000000e+00,   0.00000000e+00,   0.00000000e+00,\n",
       "         6.48667145e-01,   4.01383441e-09,  -6.52381823e-01,\n",
       "         1.79751885e-08,   0.00000000e+00,   0.00000000e+00,\n",
       "         3.68355253e-03,  -8.15306627e+00,   0.00000000e+00,\n",
       "         0.00000000e+00,   0.00000000e+00,   0.00000000e+00,\n",
       "         0.00000000e+00,   0.00000000e+00])), roots=SolverVariables(t=None, y=None, ydot=None), tstop=SolverVariables(t=None, y=None, ydot=None), message='The residual routine or the linear setup or solve routine had a recoverable error, but IDACalcIC was unable to recover.')"
      ]
     },
     "execution_count": 6,
     "metadata": {},
     "output_type": "execute_result"
    }
   ],
   "source": [
    "solver = dae('ida', residual, \n",
    "             compute_initcond='yp0', #If yp0, then the differential variables (y of the ode system at time 0) will be used to solve for the derivatives of the differential variables, so yp0 will be calculated\n",
    "             first_step_size=1e-18,\n",
    "             atol=1e-6, #absolute tolerance for solution\n",
    "             rtol=1e-6, #relative tolerance for solution\n",
    "             algebraic_vars_idx=[np.arange(2+gas.n_species,2+gas.n_species+gas_Si_N_interface.n_species,1)], #If the given problem is of type DAE, some items of the residual\n",
    "             #algebraic_vars_idx=[19, 20, 21, 22, 23, 24],\n",
    "             #vector returned by the 'resfn' have to be treated as\n",
    "                    #algebraic equations, and algebraic variables must be defined.\n",
    "                    #These algebraic variables are denoted by the position (index)\n",
    "                    #in the state vector y.\n",
    "                    #All these indexes have to be specified in the\n",
    "                    #'algebraic_vars_idx' array.\n",
    "             #compute_initcond_t0 = 60,#When calculating the initial condition, specifies the time\n",
    "                                      # until which the solver tries to\n",
    "                                      #get the consistent values for either y0 or yp0 relative to\n",
    "                                      #the starting time. Positive if t1 > t0, negative if t1 < t0\n",
    "             max_steps=500000,\n",
    "             old_api=False)#Forces use of old api (tuple of 7) if True or\n",
    "                    #new api (namedtuple) if False.\n",
    "                    #Other options may require new api, hence using this should\n",
    "                    #be avoided if possible.\n",
    "\n",
    "vec0 = np.append(np.append(np.append([11.53, gas.density], gas.Y),gas.P),Zk_0)\n",
    "solution = solver.solve(np.arange(0,0.2,0.1), vec0,vecp0)\n",
    "solution"
   ]
  },
  {
   "cell_type": "code",
   "execution_count": null,
   "metadata": {
    "collapsed": true
   },
   "outputs": [],
   "source": []
  }
 ],
 "metadata": {
  "kernelspec": {
   "display_name": "Python 2",
   "language": "python",
   "name": "python2"
  },
  "language_info": {
   "codemirror_mode": {
    "name": "ipython",
    "version": 2
   },
   "file_extension": ".py",
   "mimetype": "text/x-python",
   "name": "python",
   "nbconvert_exporter": "python",
   "pygments_lexer": "ipython2",
   "version": "2.7.13"
  }
 },
 "nbformat": 4,
 "nbformat_minor": 2
}
