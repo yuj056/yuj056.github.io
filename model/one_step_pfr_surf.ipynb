{
 "cells": [
  {
   "cell_type": "code",
   "execution_count": 1,
   "metadata": {
    "collapsed": true
   },
   "outputs": [],
   "source": [
    "from __future__ import print_function, division\n",
    "from scipy.optimize import fsolve #to get the initial value of vecp0\n",
    "import numpy as np\n",
    "from scikits.odes import dae\n",
    "import pandas as pd\n",
    "import time\n",
    "import cantera as ct\n",
    "import os\n",
    "import matplotlib.pyplot as plt\n",
    "%matplotlib inline\n",
    "import matplotlib.cm as cm\n",
    "import prettyplotlib as ppl\n",
    "from prettyplotlib import brewer2mpl\n",
    "from scipy.optimize import fsolve, root\n",
    "plt.rcParams['axes.linewidth'] = 1\n",
    "plt.rcParams['font.family'] = 'Times New Roman'\n",
    "colors = brewer2mpl.get_map('Set2','qualitative',8).mpl_colors\n",
    "from decimal import *\n",
    "getcontext().prec = 40 #start a new precision\n",
    "from scikits.odes.odeint import odeint\n",
    "from scikits.odes import ode"
   ]
  },
  {
   "cell_type": "code",
   "execution_count": 2,
   "metadata": {
    "collapsed": true
   },
   "outputs": [],
   "source": [
    "###########################CVOD for outer function##########################################################\n",
    "def RhsEq(z, vec, vecp):\n",
    "    \"\"\" vec = [u, rho, p]\"\"\"\n",
    "    mech = '/Users/yuanjie/Dropbox/Cantera_intern/code/H2O_absorp/small_mec.cti'\n",
    "    gas = ct.Solution(mech,'gas')\n",
    "    surf_phase = ct.Interface(mech, 'oxide_surface',[gas])\n",
    "    T = 500 #K\n",
    "    R =  8314 #universal gas constant\n",
    "    D = 5.08 * 10**-2 #diameter of the tube [m]\n",
    "    Ac = np.pi * D**2/4 # cross section of the tube [m]\n",
    "    nu = 1.418E-7 #m2/s #kinetic viscosity of the water vapor\n",
    "    perim = np.pi * D #perimeter of the tube\n",
    "    sigma_k = [0,2] \n",
    "\n",
    "    #gas.set_unnormalized_mass_fractions(vec[2:2+gas.n_species])\n",
    "    #gas.TPY = T,vec[2+gas.n_species],'H2O:%f'%(vec[2:2+gas.n_species])\n",
    "    gas.TPY = T,vec[2],'H2O:1'\n",
    "    surf_phase.set_unnormalized_coverages\n",
    "    surf_phase.TP = T,vec[2]\n",
    "    sigma_k = [0,2] \n",
    "    ################################# inner IDA solver ###################################################\n",
    "    \"\"\"use the ida solver to solve the trasient site fraction equation to get the site fraction of surface species at steady state\"\"\"\n",
    "    Z0 = surf_phase.coverages\n",
    "    Zp0 = surf_phase.net_production_rates[-surf_phase.n_species:]*sigma_k[:surf_phase.n_species]/surf_phase.site_density\n",
    "    def residual_dZkdt(t, Z, dotZ, result):\n",
    "        \"\"\"Z is a vector stored the site fraction of all surface species\"\"\"\n",
    "        surf_phase.coverages = Z\n",
    "        for i in range(surf_phase.n_species):\n",
    "            result[i] = dotZ[i] - surf_phase.net_production_rates[-surf_phase.n_species+i]*sigma_k[i]/surf_phase.site_density\n",
    "        np.delete(result, np.argmax(Z0)) # remove the largest site fraction element\n",
    "        result[np.argmax(Z0)] = np.sum(Z) - 1\n",
    "        \n",
    "    solver = dae('ida', residual_dZkdt, \n",
    "                 compute_initcond='yp0', #If yp0, then the differential variables (y of the ode system at time 0) will be used to solve for the derivatives of the differential variables, so yp0 will be calculated\n",
    "                 first_step_size=1e-18,\n",
    "                 atol=1e-6, #absolute tolerance for solution\n",
    "                 rtol=1e-6, #relative tolerance for solution\n",
    "                 algebraic_vars_idx = [np.argmax(Z0)], #If the given problem is of type DAE, some items of the residual\n",
    "                 max_steps = 5000,\n",
    "                 old_api = False)#Forces use of old api (tuple of 7) if True or\n",
    "\n",
    "\n",
    "    t = 0\n",
    "    index = range(surf_phase.n_species)\n",
    "    np.delete(index,np.argmax(Z0))\n",
    "    solution = solver.solve(np.array([0,100]), Z0, Zp0) #assume that when t = 100s, the system reaches the steady state\n",
    "    surf_phase.coverages = solution.values.y[1,:]\n",
    "    \"\"\"\n",
    "    while np.sum(np.abs(surf_phase.net_production_rates[-surf_phase.n_species:][index] - np.zeros(surf_phase.n_species-1)))>1e-3:\n",
    "        t = t + 5\n",
    "        solution = solver.solve(np.array([0,t]), Z0, Zp0)\n",
    "    \"\"\"\n",
    "    \n",
    "    ############################################# reach steady state #########################################\n",
    "    sdot_gas = surf_phase.net_production_rates[:gas.n_species]\n",
    "    ##equation y' = f(t,y)\n",
    "    #vec = [u, rho, p]\n",
    "    vecp[0] = (perim/Ac*np.sum(sdot_gas*gas.molecular_weights) - vec[0]*vecp[1])/vec[1]\n",
    "    vecp[1] = 1/(R*T)*(gas.mean_molecular_weight*vecp[2])\n",
    "    vecp[2] = -2*vec[1]*vec[0]*vecp[0]- np.power(vec[0],2)*vecp[1] - 32*vec[1]*vec[0]*nu/D**2  \n",
    "solver = ode('cvode', RhsEq, old_api=False)\n",
    "result = solver.solve([0., 0.2], [11.53, 0.24393884402135085, 1.01325000e+05])"
   ]
  },
  {
   "cell_type": "code",
   "execution_count": 3,
   "metadata": {
    "collapsed": false
   },
   "outputs": [
    {
     "data": {
      "text/plain": [
       "SolverReturn(flag=<StatusEnum.SUCCESS: 0>, values=SolverVariables(t=array([0. , 0.2]), y=array([[1.15300000e+01, 2.43938844e-01, 1.01325000e+05],\n",
       "       [1.15300002e+01, 2.43938840e-01, 1.01324999e+05]])), errors=SolverVariables(t=None, y=None), roots=SolverVariables(t=None, y=None), tstop=SolverVariables(t=None, y=None), message='Successful function return.')"
      ]
     },
     "execution_count": 3,
     "metadata": {},
     "output_type": "execute_result"
    }
   ],
   "source": [
    "result"
   ]
  }
 ],
 "metadata": {
  "kernelspec": {
   "display_name": "Python 2",
   "language": "python",
   "name": "python2"
  },
  "language_info": {
   "codemirror_mode": {
    "name": "ipython",
    "version": 2
   },
   "file_extension": ".py",
   "mimetype": "text/x-python",
   "name": "python",
   "nbconvert_exporter": "python",
   "pygments_lexer": "ipython2",
   "version": "2.7.13"
  }
 },
 "nbformat": 4,
 "nbformat_minor": 2
}
